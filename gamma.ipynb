{
 "cells": [
  {
   "cell_type": "markdown",
   "metadata": {},
   "source": [
    "# 特殊関数\n",
    "\n",
    "ここでは, 標本分布を定義する上で必要となる, 特殊関数について定義を与え, 簡単に解説する.  \n",
    "\n",
    "## ガンマ関数 gamma function\n",
    "$$\n",
    "\\Gamma(x) = \\int_0^{\\infty} e^{-t} t^{x-1} dt\n",
    "$$\n",
    "で定義される関数をガンマ関数という.  上式は簡単な部分積分によって, \n",
    "漸化式 $\\Gamma\\left(x+1\\right)=x\\Gamma\\left(x\\right)$ をみたすことが証明できる.  \n",
    "$x$ が正の整数のとき $\\Gamma\\left(1\\right)=1$ であることに注意すれば, \n",
    "$\\Gamma\\left(x\\right)=\\left(x-1\\right)!$ となる.  \n",
    "故にガンマ関数は, 階乗 $n!$ を実数の範囲に拡張したものと考えることができる.  \n",
    "また, $\\Gamma\\left(\\frac{1}{2}\\right)=\\sqrt{\\pi}$ である.  \n",
    "\n",
    "対数 $\\log\\Gamma\\left(x\\right)$ は漸近展開\n",
    "\\begin{equation}\n",
    "\\left(x-\\frac{1}{2}\\right)\\log{x}-x+\\frac{1}{2} \\log{2\\pi}\n",
    "  +\\sum_{n=1}^{\\infty}\\frac{B_{2n}}{2n(2n-1)x^{2n-1}}.\n",
    "\\end{equation}\n",
    "で求められる.  \n",
    "ここで, $B_n$ は Bernoulli 数.  この展開式は $x\\rightarrow\\infty$で成り立つ.  \n",
    "対数ガンマ関数は, 種々の標本分布を導く際に頻繁に利用される関数である.  \n",
    "\n"
   ]
  },
  {
   "cell_type": "markdown",
   "metadata": {},
   "source": [
    "---\n",
    "### 練習: Python には $\\Gamma$ 関数が予め組み込まれている\n",
    "のでそのまま使うことができる。以下の用例を参照のこと。"
   ]
  },
  {
   "cell_type": "code",
   "execution_count": 8,
   "metadata": {
    "collapsed": true
   },
   "outputs": [],
   "source": [
    "from __future__ import print_function\n",
    "from six.moves import range"
   ]
  },
  {
   "cell_type": "markdown",
   "metadata": {},
   "source": [
    "---\n",
    "### 練習: 0 から 9 までの $\\Gamma$ 関数を表示してみると以下のようになる。"
   ]
  },
  {
   "cell_type": "code",
   "execution_count": 9,
   "metadata": {
    "collapsed": false
   },
   "outputs": [
    {
     "name": "stdout",
     "output_type": "stream",
     "text": [
      "i=0, Gamma(0)=1\n",
      "i=1, Gamma(1)=1\n",
      "i=2, Gamma(2)=2\n",
      "i=3, Gamma(3)=6\n",
      "i=4, Gamma(4)=24\n",
      "i=5, Gamma(5)=120\n",
      "i=6, Gamma(6)=720\n",
      "i=7, Gamma(7)=5040\n",
      "i=8, Gamma(8)=40320\n",
      "i=9, Gamma(9)=362880\n"
     ]
    }
   ],
   "source": [
    "import math\n",
    "for i in range(10):\n",
    "    print('i=%d, Gamma(%d)=%ld' % (i, i, math.gamma(i+1)))"
   ]
  },
  {
   "cell_type": "markdown",
   "metadata": {},
   "source": [
    "---\n",
    "### 練習: $\\Gamma(1/2)=\\sqrt{\\pi}$ の確認は以下の通り"
   ]
  },
  {
   "cell_type": "code",
   "execution_count": 14,
   "metadata": {
    "collapsed": false
   },
   "outputs": [
    {
     "name": "stdout",
     "output_type": "stream",
     "text": [
      "1.7724538509055159 1.7724538509055159 0.0\n"
     ]
    }
   ],
   "source": [
    "print(math.gamma(0.5), math.sqrt(math.pi), math.gamma(0.5)-math.sqrt(math.pi))"
   ]
  },
  {
   "cell_type": "markdown",
   "metadata": {},
   "source": [
    "---\n",
    "### 練習: $\\Gamma$ 関数は連続関数なのでプロットしてみる"
   ]
  },
  {
   "cell_type": "code",
   "execution_count": 18,
   "metadata": {
    "collapsed": false
   },
   "outputs": [],
   "source": [
    "import numpy as np\n",
    "import matplotlib.pyplot as plt\n",
    "%matplotlib inline"
   ]
  },
  {
   "cell_type": "code",
   "execution_count": 51,
   "metadata": {
    "collapsed": false
   },
   "outputs": [
    {
     "data": {
      "image/png": "[encoded data removed]",
      "text/plain": [
       "<matplotlib.figure.Figure at 0x1147c1f60>"
      ]
     },
     "metadata": {},
     "output_type": "display_data"
    }
   ],
   "source": [
    "a = []\n",
    "for x in np.linspace(0.01,5.99,500):\n",
    "    a.append(math.gamma(x))\n",
    "plt.plot(a)\n",
    "plt.show()"
   ]
  },
  {
   "cell_type": "code",
   "execution_count": 58,
   "metadata": {
    "collapsed": false
   },
   "outputs": [
    {
     "data": {
      "image/png": "[encoded data removed]",
      "text/plain": [
       "<matplotlib.figure.Figure at 0x114418940>"
      ]
     },
     "metadata": {},
     "output_type": "display_data"
    }
   ],
   "source": [
    "x = np.arange(0.01, 6.99, 0.01)\n",
    "a = []\n",
    "for xi in x:\n",
    "    a.append(math.gamma(xi))\n",
    "plt.plot(x,a, 'r^')\n",
    "plt.show()"
   ]
  },
  {
   "cell_type": "markdown",
   "metadata": {},
   "source": [
    "---\n",
    "### ベータ関数 beta function\n",
    "ベータ関数はガンマ関数を使って\n",
    "\\begin{equation}\n",
    "B\\left(a,b\\right)=\\frac{\\Gamma\\left(a\\right)\\;\\Gamma\\left(b\\right)}{\\Gamma\\left(a+b\\right)}\n",
    "\\end{equation}\n",
    "あるいは, \n",
    "\\begin{equation}\n",
    "B\\left(a,b\\right)=\\int_{0}^{1}t^{a-1}(1-t)^{b-1} dt.\n",
    "\\end{equation}\n",
    "\n",
    "と定義される.  ガンマ関数が, 正の整数における階乗に対応していたことに注意すれば, ベータ関数は, 組み合わせ（の逆数）に対応していることが容易に想像されよう.  "
   ]
  },
  {
   "cell_type": "markdown",
   "metadata": {},
   "source": [
    "---\n",
    "### 不完全ガンマ関数 imcomplete gamma function\n",
    "ガンマ関数の積分範囲を変数にした\n",
    "\\begin{equation}\n",
    "\\gamma\\left(x,a\\right)=\\int_0^{x}e^{-t}t^{a-1} dt,\n",
    "\\end{equation}\n",
    "を不完全ガンマ関数という.  \n",
    "\\begin{eqnarray*}\n",
    "\\Gamma\\left(a,x\\right)&=&\\Gamma\\left(a\\right)-\\gamma\\left(a,x\\right), \\\\\n",
    "P\\left(a,x\\right)     &=&\\frac{\\gamma\\left(a,x\\right)}{\\Gamma\\left(a\\right)},\n",
    "\\end{eqnarray*}\n",
    "を不完全ガンマ関数と呼ぶ本もある.  "
   ]
  },
  {
   "cell_type": "markdown",
   "metadata": {},
   "source": [
    "---\n",
    "###  不完全ベータ関数 imcomplete beta function\n",
    "ベータ関数の積分範囲を変数にした\n",
    "\\begin{equation}\n",
    "\\beta_x\\left(a,b\\right)=\\int_0^1 t^{a-1}\\left(1-t\\right)^{b-1},\n",
    "\\end{equation}\n",
    "を不完全ガンマ関数という.  あるいは, $x=1$ で $1$ になるように規格化した\n",
    "\\begin{equation}\n",
    "I_x\\left(a,b\\right)=\\frac{B_x\\left(a,b\\right)}{B\\left(a,b\\right)}= 1-I_{1-x}\\left(b,a\\right)xs,\n",
    "\\end{equation}\n",
    "を不完全ベータ関数という.  $a$, $b$ がパラメータ, $x$ が変数である.  "
   ]
  },
  {
   "cell_type": "markdown",
   "metadata": {},
   "source": [
    "統計学で使う分布の中で, 分布関数が不完全ベータ関数で表現されるものが\n",
    "いくつかある.  $t$ 分布の上側確率は\n",
    "\\begin{equation}\n",
    "\\frac{1}{2} I_{x}\\left(\\frac{1}{2}v, \\frac{1}{2}\\right), x=\\frac{v}{v+t^{2}},\n",
    "\\end{equation}\n",
    "であり, $F$ 分布の上側確率は, \n",
    "\\begin{equation}\n",
    "I_{x}\\left(\\frac{1}{2}v_{2}, \\frac{1}{2}v_{1}\\right), x=\\frac{v_{2}}{v_{2} + v_{1} F}.\n",
    "\\end{equation}\n",
    "また, 二項分布の上側確率は, $I_p\\left(k,n-k+1\\right)$ である.  "
   ]
  },
  {
   "cell_type": "markdown",
   "metadata": {},
   "source": [
    "---\n",
    "## ガンマ関数の解説\n",
    "\n",
    "$$\n",
    "\\Gamma(n)=\\int_0^{\\infty}x^ne^{-x}\\;dx\n",
    "$$\n",
    "を理解するために，まず次の不定積分\n",
    "$$\n",
    "F(n)=\\int x^ne^{-x}\\;dx\n",
    "$$\n",
    "を考える。\n",
    "部分積分の公式から，<br>\n",
    "\\\\(f(x)=x^n\\\\) であれば \\\\(f'(x)=nx^{n-1}\\\\)<br>\n",
    "\\\\(g'(x)=e^{-x}\\\\) であれば  \\\\(g(x)=-e^{-X}\\\\)<br>\n",
    "であるから，\n",
    "\n",
    "\\begin{align}\n",
    "F(n)&=x^n\\cdot\\left(-e^{-x}\\right)-\\int\\left(nx^{n-1}\\right)\\left(-e^{-x}\\right)\\;dx\\\\\n",
    "    &=-x^{n}e^{-x}+n\\underbrace{\\int x^{n-1}e^{-x}\\;dx}_{=F(n-1)}\n",
    "\\end{align}\n",
    "となる。従って\n",
    "\\begin{align}\n",
    "\\Gamma(n)&=\\left[-x^ne^{-x}\\right]_0^{\\infty}+n\\int_0^{\\infty}x^{n-1}e^{-x}\\;dx\\\\\n",
    "&=0+n\\cdot\\Gamma(n-1)\n",
    "\\end{align}\n",
    "である。\n",
    "\n",
    "これに加えて\n",
    "\\begin{align}\n",
    "\\Gamma(1)&=\\left[-x\\cdot e^{-x}\\right]_0^{\\infty}+\\int_0^{\\infty}e^{-x}\\;dx\\\\\n",
    "&=0+\\left[-e^{-x}\\right]_0^{\\infty}\\\\\n",
    "&=0+1\\\\\n",
    "&=1\n",
    "\\end{align}\n",
    "となるので，<br>\n",
    "$\\Gamma(2)=2\\times\\Gamma(1)=2\\times1!=2!=2$,<br>\n",
    "$\\Gamma(3)=3\\times\\Gamma(2)=3\\times2!=3!=6$,<br>\n",
    "$\\Gamma(4)=4\\times\\Gamma(3)=4\\times3!=4!=24$,<br>\n",
    "$\\Gamma(n)=n\\times\\Gamma(n-1)=n\\times(n-1)!$<br>\n",
    "であるから $\\Gamma(n)=n!$ が成り立つ。<br>\n",
    "\n",
    "一般には上の $\\Gamma(n-1)$ を ***ガンマ関数*** と呼び $\\Gamma(n)=(n-1)!$ である。言い換えれば\n",
    "$$\n",
    "n! = \\Gamma(n+1) = n\\Gamma(n)\n",
    "$$\n",
    "であり，かつ，\n",
    "$\\Gamma(0)=\\infty$<br>\n",
    "$\\Gamma\\left(\\frac{1}{2}\\right)=\\sqrt{\\pi}$<br>\n",
    "$\\Gamma(1)=1$ <br>\n",
    "$\\Gamma(2)=1$<br>\n",
    "$\\Gamma(3)=2$<br>\n",
    "$\\Gamma(4)=6$<br>\n",
    "である。"
   ]
  },
  {
   "cell_type": "markdown",
   "metadata": {},
   "source": [
    "---\n",
    "### ヤコビアンを用いた2重積分の置換積分\n",
    "二重積分\n",
    "$$\n",
    "\\int_Df\\left(x,y\\right)\\;dx\\;dy\n",
    "$$\n",
    "を考える。(ただし積分範囲 $D:a\\le x\\le b,  c\\le y\\le d$とする)<br>\n",
    "\\begin{align}\n",
    "\\int_Df\\left(x,y\\right)\\;dx\\;dy =\\int_c^d\\int_a^bf(x,y)\\;dx\\;dy\\\\\n",
    "&=\\int_c^d\\left(\\int_a^bf(x,y)\\;dx\\right)dy\\\\\n",
    "&=\\int_a^b\\left(\\int_c^df(x,y)dy\\right)dx\\\\\n",
    "&=\\int_a^bdx\\int_c^df(x,y)dy\\\\\n",
    "\\end{align}\n",
    "このとき\n",
    "$z=f(x,y)$ に対して変数変換<br>\n",
    "$x=g(u,v)$<br>\n",
    "$y=h(u,v)$<br>\n",
    "が成り立つとすれば，\n",
    "\\begin{align}\n",
    "&\\int\\int_Df(x,y)\\;dx\\;dy\\\\\n",
    "&=\\int\\int\\_{D'}f\\left(g(u,v),h(u,v)\\right)\\cdot J\\left(\\frac{x,y}{u,v}\\right)\\;du\\;dv\\\\\n",
    "\\end{align}\n",
    "が成り立つ。\n",
    "$J$ を **ヤコビアン** Jacobian (多変数関数の偏微分関数行列式)と呼び\n",
    "$$\n",
    "J\\left(\\frac{x,y}{u,v}\\right)=\\left|\\begin{array}{ll}\n",
    "\\frac{\\partial x}{\\partial u} & \\frac{\\partial x}{\\partial v}\\\\\n",
    "\\frac{\\partial y}{\\partial u} & \\frac{\\partial y}{\\partial v}\n",
    "\\end{array}\n",
    "\\right|\n",
    "$$\n",
    "である。また $D'$ は変換された積分範囲である。\n",
    "\n",
    "---\n",
    "ヤコビアンを用いて\n",
    "$$\n",
    "\\int_0^{\\infty}e^{-x^2}\\;dx \n",
    "$$\n",
    "<!--=\\frac{\\sqrt{\\pi}{2}-->\n",
    "を解いてみると，\n",
    "\\begin{align}\n",
    "\\left(\\int_0^{\\infty}e^{-x^2}\\;dx\\right)^2&=\\int_0^{\\infty}e^{-x^2}\\;dx\\int_0^{\\infty}e^{-y^2}\\;dy\\\\\n",
    "&=\\int_0^{\\infty}\\int_0^{\\infty}e^{-\\left(x^2+y^2\\right)}\\;dx\\;dy\\hspace{12em}\\mbox{(1)}\\\\\n",
    "&=f(x,y)\n",
    "\\end{align}\n",
    "と置けば，極座標変換することにより<br>\n",
    "$x=g(r,\\theta)=r\\cos\\theta$<br>\n",
    "$y=h(r,\\theta)=r\\sin\\theta$<br>\n",
    "この極座標変換で $x^2+y^2=r^2$ となることに注意すれば，ヤコビアン $J$ は<br>\n",
    "$$\n",
    "J\\left(\\frac{x,y}{r,\\theta}\\right)=\\left|\\begin{array}{rr}\n",
    "\\cos\\theta & -r\\sin\\theta\\\\\n",
    "\\sin\\theta &  r\\cos\\theta\n",
    "\\end{array}\\right|=r\\left(\\cos^2\\theta+\\sin^2\\theta\\right)=r\n",
    "$$\n",
    "となるので，積分要素は $dx\\;dy$ を $r\\;dr\\;d\\theta$ と置き換えて (1) 式の $\\int_0^{\\infty}\\int_0^{\\infty}$ は $\\int_0^{\\frac{\\pi}{2}}\\int_0^{\\infty}$ と置き換えることができる。従って\n",
    "\\begin{align}\n",
    "(1)=\\left(\\int_0^{\\infty}e^{-x^2}\\;dx\\right)^2&= \\int_0^{\\infty}\\int_0^{\\infty}e^{-\\left(x^2+y^2\\right)}\\;dx\\;dy\\\\\n",
    "&=\\int_0^{\\frac{\\pi}{2}}\\int_0^{\\infty}e^{-r^2}\\;r\\;dr\\;d\\theta\\\\\n",
    "&=\\frac{\\pi}{2}\\int_0^{\\infty}e^{-r^2}r\\;dr\\\\\n",
    "&=\\frac{\\pi}{2}\\cdot\\frac{1}{2}\\int_0^{\\infty}e^{-r^2}\\;d\\left(r^2\\right)\\\\\n",
    "&=\\frac{\\pi}{4}\\left[-e^{-r^2}\\right]_0^{\\infty}\\\\\n",
    "&=\\frac{\\pi}{4}\n",
    "\\end{align}\n",
    "であるから，2乗を元に戻して，\n",
    "$$\n",
    "\\int_0^{\\infty}e^{-x^2}\\;dx=\\frac{\\sqrt{\\pi}}{2}\n",
    "$$\n",
    "である。\n"
   ]
  },
  {
   "cell_type": "markdown",
   "metadata": {},
   "source": [
    "---\n",
    "###  $\\Gamma\\left(\\frac{1}{2}\\right)=\\sqrt{\\pi}$ の証明つづき\n",
    "従ってガンマ関数の定義式，\n",
    "$$\n",
    "\\Gamma(n)=\\int_0^{\\infty}x^{n-1}e^{-x}\\;dx\n",
    "$$\n",
    "において $x=y^2$ と置くと，$\\frac{dx}{dy}=2y$ であるから，\n",
    "\\begin{align}\n",
    "\\int x^{n-1}e^{-x}\\;dx&=\\int\\left(y^2\\right)^{n-1}e^{-y^2}\\cdot 2y\\cdot dy\\\\\n",
    "&=2\\int_0^{\\infty}y^{2n-1}e^{-y^2}\\;dy\n",
    "\\end{align}\n",
    "従って，\n",
    "$$\n",
    "\\Gamma(n)=2\\int_0^{\\infty}y^{2n-1}e^{-y^2}\\;dy\n",
    "$$\n",
    "となる。上式において $n=\\frac{1}{2}$ と置くと，\n",
    "$$\n",
    "\\Gamma\\left(\\frac{1}{2}\\right)=2\\int_0^{\\infty}e^{-y^2}\\;dy=2\\times\\frac{\\sqrt{\\pi}}{2}=\\sqrt{\\pi}\n",
    "$$\n",
    "となる。"
   ]
  },
  {
   "cell_type": "code",
   "execution_count": null,
   "metadata": {
    "collapsed": true
   },
   "outputs": [],
   "source": []
  }
 ],
 "metadata": {
  "kernelspec": {
   "display_name": "Python [conda root]",
   "language": "python",
   "name": "conda-root-py"
  },
  "language_info": {
   "codemirror_mode": {
    "name": "ipython",
    "version": 3
   },
   "file_extension": ".py",
   "mimetype": "text/x-python",
   "name": "python",
   "nbconvert_exporter": "python",
   "pygments_lexer": "ipython3",
   "version": "3.5.3"
  }
 },
 "nbformat": 4,
 "nbformat_minor": 2
}
