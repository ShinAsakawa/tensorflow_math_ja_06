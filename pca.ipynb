{
 "cells": [
  {
   "cell_type": "markdown",
   "metadata": {},
   "source": [
    "# PCA\n",
    "\n",
    "主成分分析法 PCA とはドナルド・フィッシャーによって提唱された手法である。本質は固有値分解に基づく。最大固有値に対応する固有ベクトルを用いてデータを表現すれば情報量最大のデータ布置が得られることに基づいている。\n",
    "今，\\\\(n\\\\) 個からなる高次元データ，データの持つ次元は \\\\(m\\\\) 次元であるとすれば\n",
    "データ行列 \\\\(\\mathbf{X}\\\\) は \\\\(n\\\\) 行, \\\\(m\\\\) 列の行列として表現される。\n",
    "このとき \\\\(m>2\\\\) をできるだけ少数次元のデータとして視覚化，あるいは次元縮約することを\n",
    "考える。\n",
    "\n",
    "Note: 3次元のデータ，たとえば物体であっても物体のもつ性質によって見方を変えればデータを\n",
    "よりよく記述する方法が異なる。サッカーボールのようなほぼ球体と考えてよい物体であれば\n",
    "観察する方向によらず見えは一定である。ところがラグビーボールであれば，\n",
    "長軸に並行な方向から眺めるか(楕円)，あるいは短軸に平行な方向から眺めるか(正円)で\n",
    "異なる。\n",
    "人体であれば，頭部真上からの映像か，脇から，あるいは正面からの3観察方向により，人体の見えは異なる。"
   ]
  },
  {
   "cell_type": "markdown",
   "metadata": {},
   "source": [
    "<center>\n",
    "<img src=\"http://www.cis.twcu.ac.jp/~asakawa/jpg/brain1.jpg\" width=\"39%\">\n",
    "<img src=\"http://www.cis.twcu.ac.jp/~asakawa/jpg/brain2.jpg\" width=\"39%\">\n",
    "<img src=\"http://www.cis.twcu.ac.jp/~asakawa/jpg/brain3.jpg\" width=\"39%\">\n",
    "<!-- \n",
    "<img src=\"assets/brain2.jpg\"> \n",
    "<img src=\"assets/brain3.jpg\">\n",
    "-->\n",
    "</center>"
   ]
  },
  {
   "cell_type": "markdown",
   "metadata": {},
   "source": [
    "線形変換 \\\\(y\\_{i}=\\sum\\_{j}X\\_{ij}w\\_{j}\\\\) によって新しいデータ布置 \\\\(\\mathbf{y}\\\\) を得ることができる。すると問題は \\\\(y\\_{i}\\\\) の分散最大化(\\\\(\\max\\mbox{Var}\\left[y\\_{i}\\right]\\\\))に帰着されることとなる。\n",
    "\n",
    "\n",
    "データ行列 \\\\(\\mathbf{X}\\\\) から各列の平均を引いた行列 \\\\(\\\\{x\\_{ij}-\\bar{x}\\_{j}\\\\}\\\\) をあらためて \\\\(\\mathbf{X}\\\\) と(平均偏差行列)置けば，\\\\(\\mathbf{X}\\\\) の分散共分散行列 \\\\(\\mathbf{C}\\\\) は \\\\(n\\mathbf{C}=\\left(\\mathbf{Xw}\\right)^{\\top}\\mathbf{Xw}\\\\) と表される"
   ]
  },
  {
   "cell_type": "markdown",
   "metadata": {},
   "source": [
    "---\n",
    "\n",
    "## 問\n",
    "\\\\(\\mathbf{C}\\\\) の各要素を書き下せ\n",
    "\n",
    "$$\n",
    "\\mathbf{c}_{ij}=\\sum_{k=1}^{m}x_{ik}x_{kj},\n",
    "$$\n",
    "\n",
    "\\\\[\n",
    "\\mathbf{Xw}^{\\top}\\mathbf{Xw}\n",
    "\\\\]"
   ]
  },
  {
   "cell_type": "markdown",
   "metadata": {},
   "source": [
    "## Grapher による微分方程式系からの固有値の理解\n",
    "![Grapher](assets/Grapher_DiffEq.jpg)"
   ]
  },
  {
   "cell_type": "code",
   "execution_count": null,
   "metadata": {
    "collapsed": true
   },
   "outputs": [],
   "source": []
  }
 ],
 "metadata": {
  "kernelspec": {
   "display_name": "Python [conda root]",
   "language": "python",
   "name": "conda-root-py"
  },
  "language_info": {
   "codemirror_mode": {
    "name": "ipython",
    "version": 3
   },
   "file_extension": ".py",
   "mimetype": "text/x-python",
   "name": "python",
   "nbconvert_exporter": "python",
   "pygments_lexer": "ipython3",
   "version": "3.5.3"
  }
 },
 "nbformat": 4,
 "nbformat_minor": 2
}
