{
 "cells": [
  {
   "cell_type": "markdown",
   "metadata": {},
   "source": [
    "# TensorFlow.math.ja \n",
    "\n",
    "1. [謝辞](http://localhost:8888/notebooks/tensorflow_math_ja_06_menu#acknowledgement)\n",
    "2. [告知](http://localhost:8888/notebooks/tensorflow_math_ja_06_menu#announce)\n",
    "\n",
    "---\n",
    "\n",
    "# 本日のメニュー\n",
    "1. [はじめに](http://localhost:8888/notebooks/visualization.ipynb)\n",
    "1. [PCA](http://localhost:8888/notebooks/pca.ipynb)\n",
    "1. [mds](http://localhost:8888/notebooks/mds.ipynb) \n",
    "1. [SNE](http://locallhost:8888/notebooks/sne.ipynb)\n",
    "1. [tSNE](http://localhost:8888/notebooks/tSNE.ipynb)\n",
    "1. [t分布と正規分布](http://localhost:8888/notebooks/t_and_norm_dist.ipynb)\n"
   ]
  },
  {
   "cell_type": "markdown",
   "metadata": {},
   "source": [
    "---\n",
    "\n",
    "## 謝辞\n",
    "\n",
    "- 勉強会会場を提供していただきました M3 株式会社 森様\n",
    "- TensorFlow_math_ja 運営スタッフ 按田様\n",
    "- TensorFlow_math_ja 運営スタッフ 滝沢様\n",
    "\n",
    "ありがとうございます。Thanks a lot."
   ]
  },
  {
   "cell_type": "markdown",
   "metadata": {},
   "source": [
    "---\n",
    "\n",
    "## 告知\n",
    "\n",
    "次回からこの勉強会は TFUG (TensorFlow User Group Tokyo) ![TFUG Icon](https://connpass-tokyo.s3.amazonaws.com/thumbs/89/7c/897c3f129256ce0a20fb36ab854c455f.png) 内のイベントとして開催されます。[connpass](https://connpass.com/dashboard/) グループの移動をお願いします。\n",
    "\n",
    "[Google+ のコミュニティ](https://plus.google.com/u/1/communities/114372741074198747041)はそのままです。"
   ]
  },
  {
   "cell_type": "markdown",
   "metadata": {},
   "source": [
    "---\n",
    "### TensorFlow 1.0\n",
    "[TensorFlow 1.0](https://github.com/tensorflow/tensorflow/releases/tag/v1.0.0)がリリースされました。"
   ]
  },
  {
   "cell_type": "code",
   "execution_count": null,
   "metadata": {
    "collapsed": true
   },
   "outputs": [],
   "source": []
  }
 ],
 "metadata": {
  "kernelspec": {
   "display_name": "Python [conda root]",
   "language": "python",
   "name": "conda-root-py"
  },
  "language_info": {
   "codemirror_mode": {
    "name": "ipython",
    "version": 3
   },
   "file_extension": ".py",
   "mimetype": "text/x-python",
   "name": "python",
   "nbconvert_exporter": "python",
   "pygments_lexer": "ipython3",
   "version": "3.5.3"
  }
 },
 "nbformat": 4,
 "nbformat_minor": 2
}
