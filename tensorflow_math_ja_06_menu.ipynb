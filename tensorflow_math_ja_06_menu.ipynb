{
 "cells": [
  {
   "cell_type": "markdown",
   "metadata": {
    "nbpresent": {
     "id": "258e14ad-9435-433f-ad35-080a71d2c1ac"
    }
   },
   "source": [
    "# TensorFlow.math.ja \n",
    "\n",
    "1. [謝辞](http://localhost:8888/notebooks/tensorflow_math_ja_06_menu#acknowledgement)\n",
    "2. [告知](http://localhost:8888/notebooks/tensorflow_math_ja_06_menu#announce)\n",
    "\n",
    "---\n",
    "\n",
    "# 本日のメニュー\n",
    "1. [はじめに](http://localhost:8888/notebooks/visualization.ipynb)\n",
    "1. [PCA](http://localhost:8888/notebooks/pca.ipynb)\n",
    "1. [MDS](http://localhost:8888/notebooks/mds.ipynb) \n",
    "1. [ガンマ関数](http://localhost:8888/notebooks/gamma.ipynb)\n",
    "1. [SNE](http://locallhost:8888/notebooks/sne.ipynb)\n",
    "1. [tSNE](http://localhost:8888/notebooks/tSNE.ipynb)\n",
    "1. [t分布と正規分布](http://localhost:8888/notebooks/t_and_norm_dist.ipynb)\n",
    "1. [Jennsen Shannon ダイバージェンス](http://localhost:8888/notebooks/Jensen_Shannon.ipynb)"
   ]
  },
  {
   "cell_type": "markdown",
   "metadata": {
    "nbpresent": {
     "id": "e1c9ebaa-dc25-4a0b-94d2-0cafe4726bab"
    }
   },
   "source": [
    "---\n",
    "\n",
    "## 謝辞\n",
    "\n",
    "- 勉強会会場を提供していただきました M3 株式会社 森様\n",
    "- TensorFlow_math_ja 運営スタッフ 按田様\n",
    "- TensorFlow_math_ja 運営スタッフ 滝沢様\n",
    "\n",
    "ありがとうございます。Thanks a lot."
   ]
  },
  {
   "cell_type": "markdown",
   "metadata": {
    "nbpresent": {
     "id": "1b41ce8a-5ae3-412f-9ecc-01b892b90628"
    }
   },
   "source": [
    "---\n",
    "\n",
    "## 告知\n",
    "\n",
    "次回からこの勉強会は TFUG (TensorFlow User Group Tokyo) ![TFUG Icon](https://connpass-tokyo.s3.amazonaws.com/thumbs/89/7c/897c3f129256ce0a20fb36ab854c455f.png) 内のイベントとして開催されます。[connpass](https://connpass.com/dashboard/) グループの移動をお願いします。\n",
    "\n",
    "[Google+ のコミュニティ](https://plus.google.com/u/1/communities/114372741074198747041)はそのままです。"
   ]
  },
  {
   "cell_type": "markdown",
   "metadata": {
    "nbpresent": {
     "id": "6cece74c-0c6f-4ac8-8532-f16683baf799"
    }
   },
   "source": [
    "---\n",
    "### TensorFlow 1.0\n",
    "[TensorFlow 1.0](https://github.com/tensorflow/tensorflow/releases/tag/v1.0.0)がリリースされました。"
   ]
  },
  {
   "cell_type": "code",
   "execution_count": null,
   "metadata": {
    "collapsed": true,
    "nbpresent": {
     "id": "3a3fedb2-d70a-4f25-b327-895bd801e67a"
    }
   },
   "outputs": [],
   "source": []
  }
 ],
 "metadata": {
  "kernelspec": {
   "display_name": "Python [conda root]",
   "language": "python",
   "name": "conda-root-py"
  },
  "language_info": {
   "codemirror_mode": {
    "name": "ipython",
    "version": 3
   },
   "file_extension": ".py",
   "mimetype": "text/x-python",
   "name": "python",
   "nbconvert_exporter": "python",
   "pygments_lexer": "ipython3",
   "version": "3.5.3"
  },
  "nbpresent": {
   "slides": {
    "442ba5db-3fea-4af4-aba8-93b5737867ad": {
     "id": "442ba5db-3fea-4af4-aba8-93b5737867ad",
     "prev": null,
     "regions": {
      "e67c9c9e-4728-4691-93c7-03fe93c61612": {
       "attrs": {
        "height": 0.8,
        "width": 0.8,
        "x": 0.1,
        "y": 0.1
       },
       "content": {
        "cell": "258e14ad-9435-433f-ad35-080a71d2c1ac",
        "part": "whole"
       },
       "id": "e67c9c9e-4728-4691-93c7-03fe93c61612"
      }
     }
    },
    "60a84190-aeac-467f-87dc-55d5b6a585da": {
     "id": "60a84190-aeac-467f-87dc-55d5b6a585da",
     "prev": "442ba5db-3fea-4af4-aba8-93b5737867ad",
     "regions": {
      "876f6abb-447a-4c19-a342-44960d0679c5": {
       "attrs": {
        "height": 0.8,
        "width": 0.8,
        "x": 0.1,
        "y": 0.1
       },
       "content": {
        "cell": "e1c9ebaa-dc25-4a0b-94d2-0cafe4726bab",
        "part": "whole"
       },
       "id": "876f6abb-447a-4c19-a342-44960d0679c5"
      }
     }
    },
    "db514985-dcc6-4a1b-8e0a-cda3f2f66a2d": {
     "id": "db514985-dcc6-4a1b-8e0a-cda3f2f66a2d",
     "prev": "ebf8e83d-002c-4e81-8df8-4277ffb06882",
     "regions": {
      "bd6fdcf0-658c-4908-8f18-aa4e89af99d1": {
       "attrs": {
        "height": 0.8,
        "width": 0.8,
        "x": 0.1,
        "y": 0.1
       },
       "content": {
        "cell": "6cece74c-0c6f-4ac8-8532-f16683baf799",
        "part": "whole"
       },
       "id": "bd6fdcf0-658c-4908-8f18-aa4e89af99d1"
      }
     }
    },
    "ebf8e83d-002c-4e81-8df8-4277ffb06882": {
     "id": "ebf8e83d-002c-4e81-8df8-4277ffb06882",
     "prev": "60a84190-aeac-467f-87dc-55d5b6a585da",
     "regions": {
      "23ea9b8b-7266-4c05-bada-65bf2c435107": {
       "attrs": {
        "height": 0.8,
        "width": 0.8,
        "x": 0.1,
        "y": 0.1
       },
       "content": {
        "cell": "1b41ce8a-5ae3-412f-9ecc-01b892b90628",
        "part": "whole"
       },
       "id": "23ea9b8b-7266-4c05-bada-65bf2c435107"
      }
     }
    }
   },
   "themes": {
    "default": "b7906951-be87-4a7b-bb7d-726733c986d2",
    "theme": {}
   }
  }
 },
 "nbformat": 4,
 "nbformat_minor": 2
}
