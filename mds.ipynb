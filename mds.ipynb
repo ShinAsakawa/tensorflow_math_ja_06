{
 "cells": [
  {
   "cell_type": "markdown",
   "metadata": {},
   "source": [
    "# MDS\n",
    "\n",
    "According to Wickelmair (2003), the classical Multi-dimensional Scaling can be formulated as:\n",
    "\n",
    "1. Set up the matrix of squared proximities $\\mathbf{P}^{(2)} = [p^2]$.\n",
    "2. Apply the double centering: $\\mathbf{B}=\\frac{1}{2}\\mathbf{JP}^{(2)}\\mathbf{J}$, using the matrix $\\mathbf{J}=\\mathbf{I}-n^{-1}\\mathbf{11}^{T}$, where $n$ is the number of objects.\n",
    "3. Extract the $m$ largest positive eigenvalues $\\lambda_1,\\lambda_2,\\ldots,\\lambda_m$ of $\\mathbf{B}$ and the corresponding $m$ eigenvectors $\\mathbf{e}_1,\\mathbf{e}_2,\\ldots,\\mathbf{e}_m$.\n",
    "4. A $m$-dimensional spatial configuration of the $n$ objects is derived from the coordinate matrix $\\mathbf{X}=\\mathbf{E}_m\\mathbf{\\Lambda}_{m}^{1/2}$, where $\\mathbf{E}_m$ is the matrix of m eigenvectors and $\\mathbf{\\Lambda}_m$ is the diagonal matrix of m eigenvalues of $\\mathbf{B}$, respectively."
   ]
  },
  {
   "cell_type": "code",
   "execution_count": null,
   "metadata": {
    "collapsed": true
   },
   "outputs": [],
   "source": [
    " "
   ]
  }
 ],
 "metadata": {
  "kernelspec": {
   "display_name": "Python [conda root]",
   "language": "python",
   "name": "conda-root-py"
  },
  "language_info": {
   "codemirror_mode": {
    "name": "ipython",
    "version": 3
   },
   "file_extension": ".py",
   "mimetype": "text/x-python",
   "name": "python",
   "nbconvert_exporter": "python",
   "pygments_lexer": "ipython3",
   "version": "3.5.3"
  }
 },
 "nbformat": 4,
 "nbformat_minor": 2
}
